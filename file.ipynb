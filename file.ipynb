{
 "cells": [
  {
   "cell_type": "code",
   "execution_count": null,
   "id": "99d758d2",
   "metadata": {},
   "outputs": [],
   "source": [
    "import pandas as pd\n",
    "import numpy as np\n",
    "from scipy.stats import pearsonr\n",
    "from pulearn import BaggingPuClassifier\n",
    "from sklearn.tree import DecisionTreeClassifier\n",
    "from sklearn.ensemble import RandomForestClassifier"
   ]
  },
  {
   "cell_type": "code",
   "execution_count": null,
   "id": "65df958b",
   "metadata": {},
   "outputs": [],
   "source": [
    "# Construction of Pearson correlation coefficient model\n",
    "\n",
    "def excuteFilter(x,pearson_result,dataSet,path):\n",
    "    \n",
    "\n",
    "    header=pearson_result.columns\n",
    " \n",
    "    data = pearson_result.values\n",
    "   \n",
    "    indices = np.triu_indices_from(data)\n",
    "\n",
    "    [rows, cols] = data.shape\n",
    "    addlist = [] \n",
    "    removelist = [] \n",
    "    removeindex = []\n",
    "\n",
    " \n",
    "    for i in range(rows):\n",
    "        if header[i] not in removelist:\n",
    "            for j in range(cols):\n",
    "                if j < i:\n",
    "                    if data[i,j]>x or data[i,j]<-x:\n",
    "                        if header[j] in addlist:\n",
    "                            if header[i] not in removelist: \n",
    "                                removelist.append(header[i])\n",
    "                                continue\n",
    "                        if header[i] not in addlist: \n",
    "                            addlist.append(header[i])\n",
    "                        if header[j] not in removelist: \n",
    "                             removelist.append(header[j])\n",
    "\n",
    "   \n",
    "    retainList = []\n",
    "    for col in header:\n",
    "        if col not in removelist:\n",
    "            retainList.append(col)\n",
    "            \n",
    "            print(col)\n",
    "    \n",
    "  \n",
    "    dataSet[retainList].to_excel(path,index = False)"
   ]
  },
  {
   "cell_type": "code",
   "execution_count": null,
   "id": "8495cf20",
   "metadata": {},
   "outputs": [],
   "source": [
    "# Thermal map of pearson\n",
    "\n",
    "plt.rcParams['font.sans-serif']=['FangSong'] \n",
    "plt.rcParams['axes.unicode_minus']=False\n",
    "\n",
    "plt.subplots(figsize=(30, 30)) \n",
    "\n",
    "fig=sns.heatmap(dcorr,\n",
    "            cmap='YlGnBu'\n",
    "            annot=True,\n",
    "            fmt=\".2f\",\n",
    "            mask=np.triu(np.ones_like(dcorr,dtype=bool)) \n",
    "           )\n",
    "\n"
   ]
  },
  {
   "cell_type": "code",
   "execution_count": null,
   "id": "ddb27536",
   "metadata": {},
   "outputs": [],
   "source": [
    "#Partial code of PU learning # DecisionTreeClassifier(),\n",
    "bc = BaggingPuClassifier(\n",
    "    DecisionTreeClassifier(),\n",
    "    n_estimators =  ,\n",
    "    max_samples =  , \n",
    "    n_jobs = -1 \n",
    ")\n",
    "print(bc.oob_score_)\n",
    "print(bc.oob_decision_function_)"
   ]
  },
  {
   "cell_type": "code",
   "execution_count": null,
   "id": "2637fadb",
   "metadata": {},
   "outputs": [],
   "source": [
    "#Partial code of PU learning # RandomForestClassifier(),\n",
    "bc = BaggingPuClassifier(\n",
    "   \n",
    "    RandomForestClassifier(),\n",
    "    n_estimators = , \n",
    "    max_samples = , \n",
    "    n_jobs = -1 \n",
    ")\n",
    "print(bc.oob_score_)\n",
    "print(bc.oob_decision_function_)"
   ]
  }
 ],
 "metadata": {
  "kernelspec": {
   "display_name": "Python 3 (ipykernel)",
   "language": "python",
   "name": "python3"
  },
  "language_info": {
   "codemirror_mode": {
    "name": "ipython",
    "version": 3
   },
   "file_extension": ".py",
   "mimetype": "text/x-python",
   "name": "python",
   "nbconvert_exporter": "python",
   "pygments_lexer": "ipython3",
   "version": "3.9.12"
  }
 },
 "nbformat": 4,
 "nbformat_minor": 5
}
